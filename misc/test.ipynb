{
 "cells": [
  {
   "cell_type": "code",
   "execution_count": 1,
   "metadata": {},
   "outputs": [
    {
     "name": "stdout",
     "output_type": "stream",
     "text": [
      "\n",
      "(zenity:50529): Gtk-\u001b[1;33mWARNING\u001b[0m **: \u001b[34m23:50:40.004\u001b[0m: Unable to retrieve the Flatpak portal version: GDBus.Error:org.freedesktop.DBus.Error.ServiceUnknown: The name is not activatable\n",
      "\n",
      "(zenity:50529): Gdk-\u001b[1;33mWARNING\u001b[0m **: \u001b[34m23:50:41.138\u001b[0m: ../gtk/gdk/wayland/gdkcursor-wayland.c:210 cursor image size (32) not an integer multiple of theme size (24)\n",
      "\n",
      "(zenity:50529): Gdk-\u001b[1;33mWARNING\u001b[0m **: \u001b[34m23:50:41.778\u001b[0m: ../gtk/gdk/wayland/gdkcursor-wayland.c:210 cursor image size (32) not an integer multiple of theme size (24)\n",
      "\n",
      "(zenity:50529): Gdk-\u001b[1;33mWARNING\u001b[0m **: \u001b[34m23:50:42.387\u001b[0m: ../gtk/gdk/wayland/gdkcursor-wayland.c:210 cursor image size (32) not an integer multiple of theme size (24)\n",
      "\n",
      "(zenity:50529): Gdk-\u001b[1;33mWARNING\u001b[0m **: \u001b[34m23:50:54.759\u001b[0m: ../gtk/gdk/wayland/gdkcursor-wayland.c:210 cursor image size (32) not an integer multiple of theme size (24)\n",
      "\n",
      "(zenity:50529): Gdk-\u001b[1;33mWARNING\u001b[0m **: \u001b[34m23:50:54.839\u001b[0m: ../gtk/gdk/wayland/gdkcursor-wayland.c:210 cursor image size (32) not an integer multiple of theme size (24)\n"
     ]
    }
   ],
   "source": [
    "!zenity --list \\\n",
    "        --title=\"Power Menu\" \\\n",
    "        --column=\"Action\" \\\n",
    "        \"Shutdown\" \\\n",
    "        \"Restart\" \\\n",
    "        \"Log Out\" \\\n",
    "        \"Suspend\" \\\n",
    "        \"Hibernate\" \\\n",
    "        \"Cancel\""
   ]
  },
  {
   "cell_type": "code",
   "execution_count": 1,
   "metadata": {},
   "outputs": [
    {
     "name": "stdout",
     "output_type": "stream",
     "text": [
      "t 0: 0--1\n",
      "t 1: 0--1\n",
      "t 2: 0--1\n",
      "t 3: 0--1\n",
      "t 4: 0--1\n",
      "t 5: 0--1\n",
      "t 6: 0--1\n"
     ]
    }
   ],
   "source": [
    "num_threads = 7\n",
    "n = 0\n",
    "\n",
    "for thread_id in range(num_threads):\n",
    "\n",
    "    base_batch_size = n // num_threads\n",
    "    remainder = n % num_threads\n",
    "\n",
    "    start_seq_idx = thread_id * base_batch_size + min(thread_id, remainder)\n",
    "    end_seq_idx = start_seq_idx + base_batch_size - 1\n",
    "\n",
    "    end_seq_idx += 1 if thread_id < remainder else 0\n",
    "\n",
    "    print(f\"t {thread_id}: {start_seq_idx}-{end_seq_idx}\")"
   ]
  },
  {
   "cell_type": "code",
   "execution_count": null,
   "metadata": {},
   "outputs": [],
   "source": [
    "# 0 12306\n",
    "# 12307 24613\n",
    "# 24614 36920\n",
    "# 36921 49227\n",
    "# 49228 61534\n",
    "# 61535 73841\n",
    "# 73842 86148\n",
    "# 86149 98455\n",
    "# 98456 110762\n",
    "# 110763 123069\n",
    "# 123070 135376\n",
    "# 135377 147683\n"
   ]
  },
  {
   "cell_type": "code",
   "execution_count": 1,
   "metadata": {},
   "outputs": [
    {
     "ename": "ModuleNotFoundError",
     "evalue": "No module named 'ftsearch_module'",
     "output_type": "error",
     "traceback": [
      "\u001b[0;31m---------------------------------------------------------------------------\u001b[0m",
      "\u001b[0;31mModuleNotFoundError\u001b[0m                       Traceback (most recent call last)",
      "Cell \u001b[0;32mIn[1], line 1\u001b[0m\n\u001b[0;32m----> 1\u001b[0m \u001b[38;5;28;01mimport\u001b[39;00m \u001b[38;5;21;01mftsearch_module\u001b[39;00m\n\u001b[1;32m      2\u001b[0m \u001b[38;5;28;01mimport\u001b[39;00m \u001b[38;5;21;01mnumpy\u001b[39;00m \u001b[38;5;28;01mas\u001b[39;00m \u001b[38;5;21;01mnp\u001b[39;00m\n\u001b[1;32m      3\u001b[0m \u001b[38;5;28;01mfrom\u001b[39;00m \u001b[38;5;21;01mtqdm\u001b[39;00m\u001b[38;5;21;01m.\u001b[39;00m\u001b[38;5;21;01mauto\u001b[39;00m \u001b[38;5;28;01mimport\u001b[39;00m  tqdm\n",
      "\u001b[0;31mModuleNotFoundError\u001b[0m: No module named 'ftsearch_module'"
     ]
    }
   ],
   "source": [
    "import ftsearch_module\n",
    "import numpy as np\n",
    "from tqdm.auto import  tqdm\n",
    "def l2_normalize(vectors):\n",
    "    # Compute the L2 norm for each vector (row)\n",
    "    norms = np.linalg.norm(vectors, axis=1, keepdims=True)\n",
    "    # Avoid division by zero\n",
    "    norms[norms == 0] = 1\n",
    "    # Normalize each vector\n",
    "    normalized_vectors = vectors / norms\n",
    "    return normalized_vectors\n",
    "\n"
   ]
  },
  {
   "cell_type": "code",
   "execution_count": 2,
   "metadata": {},
   "outputs": [],
   "source": [
    "ft = ftsearch_module.FTSearch(512)"
   ]
  },
  {
   "cell_type": "code",
   "execution_count": 3,
   "metadata": {},
   "outputs": [
    {
     "data": {
      "application/vnd.jupyter.widget-view+json": {
       "model_id": "c710a3382be44cdf909869a62b64fe70",
       "version_major": 2,
       "version_minor": 0
      },
      "text/plain": [
       "  0%|          | 0/100 [00:00<?, ?it/s]"
      ]
     },
     "metadata": {},
     "output_type": "display_data"
    }
   ],
   "source": [
    "for i in tqdm(range(100)):\n",
    "    data = np.random.random((1000, 512)).astype(\"float32\")\n",
    "    data = l2_normalize(data)\n",
    "    ft.add_seq(data, f\"123{i}\")"
   ]
  },
  {
   "cell_type": "code",
   "execution_count": 4,
   "metadata": {},
   "outputs": [
    {
     "data": {
      "text/plain": [
       "100000"
      ]
     },
     "execution_count": 4,
     "metadata": {},
     "output_type": "execute_result"
    }
   ],
   "source": [
    "ft.get_size()"
   ]
  },
  {
   "cell_type": "code",
   "execution_count": 5,
   "metadata": {},
   "outputs": [],
   "source": [
    "# for i in tqdm(range(1000)):\n",
    "#     re = ft.search(data[24:35], 4)\n"
   ]
  },
  {
   "cell_type": "code",
   "execution_count": 6,
   "metadata": {},
   "outputs": [
    {
     "name": "stdout",
     "output_type": "stream",
     "text": [
      "[[1.       ]\n",
      " [1.0000001]]\n",
      "[[99024]\n",
      " [99025]]\n"
     ]
    }
   ],
   "source": [
    "re = ft.search(data[24:26], 1)\n",
    "print(re[0])\n",
    "print(re[1])"
   ]
  },
  {
   "cell_type": "code",
   "execution_count": 7,
   "metadata": {},
   "outputs": [
    {
     "name": "stdout",
     "output_type": "stream",
     "text": [
      "[2.        1.7814044 1.7793993 1.7793639 1.777436 ]\n",
      "[[99024 99025]\n",
      " [99024 99776]\n",
      " [99024 99878]\n",
      " [99024 99821]\n",
      " [99024 99876]]\n"
     ]
    }
   ],
   "source": [
    "re = ft.seq_search(data[24:26], 5)\n",
    "\n",
    "print(re[0])\n",
    "print(re[1])"
   ]
  }
 ],
 "metadata": {
  "kernelspec": {
   "display_name": "Python 3",
   "language": "python",
   "name": "python3"
  },
  "language_info": {
   "codemirror_mode": {
    "name": "ipython",
    "version": 3
   },
   "file_extension": ".py",
   "mimetype": "text/x-python",
   "name": "python",
   "nbconvert_exporter": "python",
   "pygments_lexer": "ipython3",
   "version": "3.11.11"
  }
 },
 "nbformat": 4,
 "nbformat_minor": 2
}
